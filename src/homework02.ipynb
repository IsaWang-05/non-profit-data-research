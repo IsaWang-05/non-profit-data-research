{
 "cells": [
  {
   "cell_type": "markdown",
   "metadata": {},
   "source": [
    "\n",
    "## Part 1 - Questions\n",
    "\n",
    "### Question 1: \n",
    "\n",
    "Which states and cities in the Northeastern areas in the United States have had the most registered non-profit organizations?\n",
    "\n",
    "* Who (population): all non-profit organizations in the Northeastern areas of United States\n",
    "* What (subject, discipline): non-profit organizations in the Northeastern areas of United States\n",
    "* Where (location): Northeastern part of United States, including Connecticut, Maine, Massachusetts, New Hampshire, New Jersey, New York, Rhode Island, Vermont\n",
    "* When (snapshot, longitudinal): Around 2006 - 2021\n",
    "* How much data do you need to do the analysis/work: around 60,000 according to National Center for Charitable Statistics (NCCS)\n",
    "\n",
    "\n",
    "### Question 2: \n",
    "\n",
    "What is the average income of non-profit organizations in the Northeastern areas in the United States?\n",
    "\n",
    "* Who (population): all non-profit organizations in the Northeastern areas of United States\n",
    "* What (subject, discipline): income of non-profit organizations\n",
    "* Where (location): Northeastern part of United States, including Connecticut, Maine, Massachusetts, New Hampshire, New Jersey, New York, Rhode Island, Vermont\n",
    "* When (snapshot, longitudinal): Around 2006 - 2021\n",
    "* How much data do you need to do the analysis/work: around 60,000 according to National Center for Charitable Statistics (NCCS)\n",
    "\n",
    "### Who Might Collect Relevant Data / What Articles or Publications Cite a Relevant Data Set?\n",
    "\n",
    "Internal Revenue Service (IRS) might collect relevant data, and National Center for Charitable Statistics (NCCS) has some publications that have cited the IRS data."
   ]
  },
  {
   "cell_type": "markdown",
   "metadata": {},
   "source": [
    "## Part 2 - Selecting a Data Set, Adding Documentation\n",
    "\n",
    "\n",
    "\n",
    "1. Name / Title: eo1.csv / Exempt Organizations by States and Regions - Northeast Area\n",
    "2. Link to Data: https://www.irs.gov/charities-non-profits/exempt-organizations-business-master-file-extract-eo-bmf\n",
    "3. Source / Origin: \n",
    "\t* Author or Creator: Internal Revenue Service\n",
    "\t* Publication Date: 09/13/2021\n",
    "\t* Publisher: Internal Revenue Service\n",
    "\t* Version or Data Accessed: The data is updated monthly and this version is the newest available\n",
    "4. License: You can download data sets of information about organizations' tax-exempt status and filings.\n",
    "5. Can You Use this Data Set for Your Intended Use Case? Yes"
   ]
  },
  {
   "cell_type": "markdown",
   "metadata": {},
   "source": [
    "## Format\n",
    "\n"
   ]
  },
  {
   "cell_type": "markdown",
   "metadata": {},
   "source": [
    "\n",
    "### Overview\n",
    "* Format: csv\n",
    "* Size: 43.4MB\n",
    "* Number of Records: 257324\n"
   ]
  },
  {
   "cell_type": "markdown",
   "metadata": {},
   "source": [
    "import os\n",
    "os.getcwd()### Sample of Data\n",
    "\n",
    "\n"
   ]
  },
  {
   "cell_type": "code",
   "execution_count": 7,
   "metadata": {},
   "outputs": [
    {
     "name": "stdout",
     "output_type": "stream",
     "text": [
      "The following are some lines of data from the file：\n",
      "['000019818', 'PALMER SECOND BAPTIST CHURCH', '', '1050 THORNDIKE ST', 'PALMER', 'MA', '01069-1507', '3125', '03', '9', '7000', '195504', '1', '10', '001000000', '5', '01', '', '0', '0', '06', '0', '12', '', '', '', '', '3514']\n",
      "['000029215', 'ST GEORGE CATHEDRAL', '', '523 E BROADWAY', 'SOUTH BOSTON', 'MA', '02127-4415', '2365', '03', '9', '7000', '197210', '1', '10', '001000000', '1', '01', '', '0', '0', '06', '0', '12', '', '', '', '', '']\n",
      "['000587764', 'IGLESIA BETHESDA INC', '', '157 ANDOVER ST', 'LOWELL', 'MA', '01852-2348', '0000', '03', '3', '7000', '200401', '1', '10', '000000000', '1', '01', '', '0', '0', '06', '0', '12', '', '', '', 'X21', '']\n",
      "['000635913', 'MINISTERIO APOSTOLICO JESUCRISTO ES EL SENOR INC', '', '454 ESSEX ST', 'LAWRENCE', 'MA', '01840-1242', '0000', '03', '3', '7000', '200401', '1', '10', '000000000', '1', '01', '', '0', '0', '06', '0', '12', '', '', '', 'X21', '']\n"
     ]
    }
   ],
   "source": [
    "# TODO show a few lines of data from the actual file\n",
    "# Use \"regular\" Python to do this in this code block\n",
    "\n",
    "#Reference: https://www.codegrepper.com/code-examples/python/how+to+read+a+csv+file+from+a+url+with+python\n",
    "import csv\n",
    "with open('../data/raw/eo1.csv', 'r') as f:\n",
    "    reader = csv.reader(f)\n",
    "    my_list = list(reader)\n",
    "    \n",
    "    print('The following are some lines of data from the file：')\n",
    "    for i in range(1,5):\n",
    "        print(my_list[i])"
   ]
  },
  {
   "cell_type": "markdown",
   "metadata": {},
   "source": [
    "### Fields or Column Headers"
   ]
  },
  {
   "cell_type": "code",
   "execution_count": 8,
   "metadata": {},
   "outputs": [
    {
     "name": "stdout",
     "output_type": "stream",
     "text": [
      "Field/Column 0: EIN              Type: <class 'int'>\n",
      "Field/Column 1: NAME              Type: <class 'str'>\n",
      "Field/Column 2: ICO              Type: <class 'str'>\n",
      "Field/Column 3: STREET              Type: <class 'str'>\n",
      "Field/Column 4: CITY              Type: <class 'str'>\n",
      "Field/Column 5: STATE              Type: <class 'str'>\n",
      "Field/Column 6: ZIP              Type: <class 'str'>\n",
      "Field/Column 7: GROUP              Type: <class 'int'>\n",
      "Field/Column 8: SUBSECTION              Type: <class 'int'>\n",
      "Field/Column 9: AFFILIATION              Type: <class 'int'>\n",
      "Field/Column 10: CLASSIFICATION              Type: <class 'int'>\n",
      "Field/Column 11: RULING              Type: <class 'int'>\n",
      "Field/Column 12: DEDUCTIBILITY              Type: <class 'int'>\n",
      "Field/Column 13: FOUNDATION              Type: <class 'int'>\n",
      "Field/Column 14: ACTIVITY              Type: <class 'int'>\n",
      "Field/Column 15: ORGANIZATION              Type: <class 'int'>\n",
      "Field/Column 16: STATUS              Type: <class 'int'>\n",
      "Field/Column 17: TAX_PERIOD              Type: <class 'str'>\n",
      "Field/Column 18: ASSET_CD              Type: <class 'int'>\n",
      "Field/Column 19: INCOME_CD              Type: <class 'int'>\n",
      "Field/Column 20: FILING_REQ_CD              Type: <class 'int'>\n",
      "Field/Column 21: PF_FILING_REQ_CD              Type: <class 'int'>\n",
      "Field/Column 22: ACCT_PD              Type: <class 'int'>\n",
      "Field/Column 23: ASSET_AMT              Type: <class 'str'>\n",
      "Field/Column 24: INCOME_AMT              Type: <class 'str'>\n",
      "Field/Column 25: REVENUE_AMT              Type: <class 'str'>\n",
      "Field/Column 26: NTEE_CD              Type: <class 'str'>\n",
      "Field/Column 27: SORT_NAME              Type: <class 'int'>\n"
     ]
    }
   ],
   "source": [
    "for i in range(0,1):\n",
    "    for j in range(0,len(my_list[0])):\n",
    "        try:\n",
    "            my_list[1][j] = int(my_list[1][j])\n",
    "        except ValueError:\n",
    "            print (\"Field/Column \" + str(j) + \": \" + my_list[0][j] + \"{0:>20}\".format(\"Type: \") + str(type(my_list[1][j])))\n",
    "        else:\n",
    "            print (\"Field/Column \" + str(j) + \": \" + my_list[0][j] + \"{0:>20}\".format(\"Type: \") + str(type(my_list[1][j])))\n"
   ]
  },
  {
   "cell_type": "markdown",
   "metadata": {},
   "source": [
    "## Part 3 - Extract / Transform\n",
    "\n",
    "Describe your process for extracting, transforming, cleaning your incoming data:\n",
    "\n",
    "1. what columns you'll be using (extracting) from your dataset?\n",
    "    * we will be using Field/Column 1: NAME, Field/Column 4: CITY, Field/Column 5: STATE, and Field/Column 24: INCOME_AMT  \n",
    "    * city and state are categorical, while revenue is numeric\n",
    "\n",
    "2. how you're planning to convert the data into analogous python types / how you'll deal with type issues (for example, you may want a column that's numeric, but the data contains a label, such as 4 months)\n",
    "    * Since this data is extracted from official government documentation, it seems that all type issues have been cleared. If there were, for other files though, I plan to use replace function to replace the lables with ''.\n",
    "\n",
    "3. any other kind of cleaning (_normalizing_ data, filling in missing values, etc.) that you'll have to perform\n",
    "    * with income, there are some standard as well as unexpected missing values. \n",
    "    * (1) According to the context of revenue of organizations, they usually have a 2 - 6 digits income. Therefore, for the companies that filled in 0 for asset or income, it is reasonable to assume that they just did not fill in any actual data. These organizations will be excluded as missing values.\n",
    "    * (2) Meanwhile, there are some organizations filling both asset and income in as 1, which seems unrealistic and are like for tax purposes. Therefore, these organizations will also be excluded as missing values.\n",
    "    * (3) Since the data has no time series and are of individual organizations, there won't be any cleanings of the form of normalizing data etc.\n"
   ]
  },
  {
   "cell_type": "code",
   "execution_count": 28,
   "metadata": {},
   "outputs": [],
   "source": [
    "# TODO write code here!\n",
    "import csv\n",
    "import numpy as np\n",
    "\n",
    "with open('../data/raw/eo1.csv', 'r') as f:\n",
    "    reader = csv.reader(f)\n",
    "    my_list = list(reader)\n",
    "    \n",
    "    name, city, state, income,revenue = [], [], [], [], []\n",
    "    income_name = {}\n",
    "    for i in range(1,len(my_list)):\n",
    "        #clean out missing values\n",
    "        for x in range(23,25):\n",
    "            if my_list[i][x] != '':\n",
    "                my_list[i][x] = int(my_list[i][x])\n",
    "        if my_list[i][23] != 0 and my_list[i][24] != 0 and (my_list[i][23] != 1 or my_list[i][24] != 1) and my_list[i][23] != '' and my_list[i][24] != '' and my_list[i][25] != '':\n",
    "        #store the data into lists and disctionaries   \n",
    "            name.append(my_list[i][1])\n",
    "            city.append(my_list[i][4])\n",
    "            state.append(my_list[i][5])\n",
    "            income.append(int(my_list[i][24]))\n",
    "            revenue.append(int(my_list[i][25]))\n",
    "            income_name[my_list[i][1]] = int(my_list[i][24])\n",
    "    citynp = np.array(city)  \n",
    "    statenp = np.array(state)\n",
    "    incomenp = np.array(income)\n",
    "    revenuenp = np.array(revenue)\n"
   ]
  },
  {
   "cell_type": "markdown",
   "metadata": {},
   "source": [
    "## Part 4 - Descriptive Statistics\n",
    "\n",
    "### Analysis on Numeric Data\n",
    "\n",
    "#### Central Tendency\n",
    "\n"
   ]
  },
  {
   "cell_type": "code",
   "execution_count": 29,
   "metadata": {},
   "outputs": [
    {
     "name": "stdout",
     "output_type": "stream",
     "text": [
      "The average income of non-profits in the Northeastern areas of United States is: 9087179.03\n",
      "\n",
      "The median of income of non-profits in the Northeastern areas of United States is: 172847.00\n",
      "\n",
      "The mode of income of non-profits in the Northeastern areas of United States is: 1000.00,\n",
      "which has been counted 43 times.\n"
     ]
    }
   ],
   "source": [
    "import numpy as np\n",
    "from scipy import stats\n",
    "\n",
    "mean = np.mean(incomenp)\n",
    "print(\"The average income of non-profits in the Northeastern areas of United States is: \" + \"{:.2f}\".format(float(mean))+ \"\\n\")\n",
    "\n",
    "median = np.median(incomenp)\n",
    "print(\"The median of income of non-profits in the Northeastern areas of United States is: \" + \"{:.2f}\".format(float(median)) + \"\\n\")\n",
    "\n",
    "mode = stats.mode(incomenp)\n",
    "print(\"The mode of income of non-profits in the Northeastern areas of United States is: \" + \"{:.2f}\".format(float(mode[0])) + \",\\nwhich has been counted \" + \"{:.0f}\".format(float(mode[1])) + \" times.\")"
   ]
  },
  {
   "cell_type": "markdown",
   "metadata": {},
   "source": [
    "#### Dispersion"
   ]
  },
  {
   "cell_type": "code",
   "execution_count": 30,
   "metadata": {},
   "outputs": [
    {
     "name": "stdout",
     "output_type": "stream",
     "text": [
      "The standard deviation of income of non-profits in the Northeastern areas of United States is: 176906731.26\n",
      "\n"
     ]
    }
   ],
   "source": [
    "std = np.std(incomenp)\n",
    "print(\"The standard deviation of income of non-profits in the Northeastern areas of United States is: \" + \"{:.2f}\".format(float(std)) + \"\\n\")"
   ]
  },
  {
   "cell_type": "markdown",
   "metadata": {},
   "source": [
    "#### Outliers\n"
   ]
  },
  {
   "cell_type": "code",
   "execution_count": 31,
   "metadata": {},
   "outputs": [
    {
     "name": "stdout",
     "output_type": "stream",
     "text": [
      "There are 334 outliers in this data set\n"
     ]
    }
   ],
   "source": [
    "outliers = []\n",
    "regulars = []\n",
    "for i in range(0,len(incomenp)):\n",
    "    distance_from_mean = abs(incomenp[i] - mean)\n",
    "    max_deviations = 2\n",
    "    if distance_from_mean > max_deviations * std:\n",
    "        outliers.append(incomenp[i])\n",
    "    else:\n",
    "        regulars.append(incomenp[i])\n",
    "print(\"There are \" + str(len(outliers)) + \" outliers in this data set\")\n",
    "#Since there are too many, we wont be printing the outliers out. If needed you can take out the '#' for the next line for testing.\n",
    "#print(outliers)"
   ]
  },
  {
   "cell_type": "markdown",
   "metadata": {},
   "source": [
    "#### Other\n",
    "* Maximum and Minimum"
   ]
  },
  {
   "cell_type": "code",
   "execution_count": 32,
   "metadata": {},
   "outputs": [
    {
     "name": "stdout",
     "output_type": "stream",
     "text": [
      "The highest income of non-profits excluding outliers in the Northeastern areas of United States is: 362510242.00\n",
      "\n",
      "The lowest income of non-profits excluding outliers in the Northeastern areas of United States is: 1.00\n",
      "\n"
     ]
    }
   ],
   "source": [
    "#In outliers block, we also created a list of regular income taking out all outliers\n",
    "maxincome = np.max(regulars)\n",
    "print(\"The highest income of non-profits excluding outliers in the Northeastern areas of United States is: \" + \"{:.2f}\".format(float(maxincome)) + \"\\n\")\n",
    "\n",
    "minincome = np.min(regulars)\n",
    "print(\"The lowest income of non-profits excluding outliers in the Northeastern areas of United States is: \" + \"{:.2f}\".format(float(minincome)) + \"\\n\")"
   ]
  },
  {
   "cell_type": "markdown",
   "metadata": {},
   "source": [
    "###  Analysis on Categorical Data"
   ]
  },
  {
   "cell_type": "markdown",
   "metadata": {},
   "source": [
    "#### Frequency"
   ]
  },
  {
   "cell_type": "code",
   "execution_count": 33,
   "metadata": {},
   "outputs": [
    {
     "name": "stdout",
     "output_type": "stream",
     "text": [
      "The ranking of states in the Northeastern areas in the United States based on number of non-profit organizations they have are:\n",
      "NY which has 38800 non-profit organizations\n",
      "MA which has 17433 non-profit organizations\n",
      "NJ which has 15370 non-profit organizations\n",
      "CT which has 7594 non-profit organizations\n",
      "NH which has 3210 non-profit organizations\n",
      "ME which has 3183 non-profit organizations\n",
      "RI which has 2344 non-profit organizations\n",
      "VT which has 2233 non-profit organizations\n"
     ]
    }
   ],
   "source": [
    "frequencystate = {}\n",
    "for i in statenp:\n",
    "    if i not in frequencystate:\n",
    "        frequencystate[i] = 1\n",
    "    else:\n",
    "        frequencystate[i] +=1\n",
    "\n",
    "sorted_freqstate = sorted(frequencystate.items(), key=lambda kv: kv[1], reverse = True)\n",
    "print(\"The ranking of states in the Northeastern areas in the United States based on number of non-profit organizations they have are:\")\n",
    "for i in range(0, len(sorted_freqstate)):\n",
    "    print(sorted_freqstate[i][0] + \" which has \" + str(sorted_freqstate[i][1]) + \" non-profit organizations\")"
   ]
  },
  {
   "cell_type": "code",
   "execution_count": 34,
   "metadata": {},
   "outputs": [
    {
     "name": "stdout",
     "output_type": "stream",
     "text": [
      "The top 30 cities that have the most non-profit organizations in the Northeastern areas in the United States are:\n",
      "NEW YORK which has 8514 non-profit organizations\n",
      "BROOKLYN which has 3260 non-profit organizations\n",
      "BOSTON which has 1853 non-profit organizations\n",
      "ROCHESTER which has 1079 non-profit organizations\n",
      "BRONX which has 989 non-profit organizations\n",
      "BUFFALO which has 900 non-profit organizations\n",
      "ALBANY which has 765 non-profit organizations\n",
      "PROVIDENCE which has 673 non-profit organizations\n",
      "CAMBRIDGE which has 622 non-profit organizations\n",
      "SYRACUSE which has 606 non-profit organizations\n",
      "STATEN ISLAND which has 510 non-profit organizations\n",
      "HARTFORD which has 480 non-profit organizations\n",
      "CONCORD which has 471 non-profit organizations\n",
      "NEWARK which has 461 non-profit organizations\n",
      "MANCHESTER which has 443 non-profit organizations\n",
      "NEW HAVEN which has 432 non-profit organizations\n",
      "WORCESTER which has 420 non-profit organizations\n",
      "PORTLAND which has 392 non-profit organizations\n",
      "SPRINGFIELD which has 385 non-profit organizations\n",
      "PRINCETON which has 359 non-profit organizations\n",
      "BURLINGTON which has 353 non-profit organizations\n",
      "ITHACA which has 331 non-profit organizations\n",
      "LAKEWOOD which has 323 non-profit organizations\n",
      "TRENTON which has 322 non-profit organizations\n",
      "FLUSHING which has 313 non-profit organizations\n",
      "STAMFORD which has 281 non-profit organizations\n",
      "MIDDLETOWN which has 274 non-profit organizations\n",
      "JERSEY CITY which has 274 non-profit organizations\n",
      "NEWTON which has 263 non-profit organizations\n",
      "WHITE PLAINS which has 251 non-profit organizations\n"
     ]
    }
   ],
   "source": [
    "frequencycity = {}\n",
    "for i in citynp:\n",
    "    if i not in frequencycity:\n",
    "        frequencycity[i] = 1\n",
    "    else:\n",
    "        frequencycity[i] +=1\n",
    "\n",
    "sorted_freqcity = sorted(frequencycity.items(), key=lambda kv: kv[1], reverse = True)\n",
    "print(\"The top 30 cities that have the most non-profit organizations in the Northeastern areas in the United States are:\")\n",
    "for i in range(0,30):\n",
    "    print(sorted_freqcity[i][0] + \" which has \" + str(sorted_freqcity[i][1]) + \" non-profit organizations\")"
   ]
  },
  {
   "cell_type": "markdown",
   "metadata": {},
   "source": [
    "#### Unique Values"
   ]
  },
  {
   "cell_type": "code",
   "execution_count": 35,
   "metadata": {},
   "outputs": [
    {
     "name": "stdout",
     "output_type": "stream",
     "text": [
      "The following are the unique values of states that have non-profits in the Northeastern areas in the United States\n",
      "['CT' 'MA' 'ME' 'NH' 'NJ' 'NY' 'RI' 'VT']\n",
      "and there are 8 of them\n",
      "\n",
      "There are 3614 unique values of cities that have non-profits in the Northeastern areas in the United States\n"
     ]
    }
   ],
   "source": [
    "unique_elements, counts_elements = np.unique(statenp, return_counts=True)\n",
    "print(\"The following are the unique values of states that have non-profits in the Northeastern areas in the United States\")\n",
    "unique_states = np.asarray(unique_elements)\n",
    "print(unique_states)\n",
    "print(\"and there are \" + str(len(np.asarray(unique_elements))) + \" of them\\n\")\n",
    "\n",
    "unique_elements, counts_elements = np.unique(citynp, return_counts=True)\n",
    "unique_cities = np.asarray(unique_elements)\n",
    "print(\"There are \" + str(len(np.asarray(unique_elements))) + \" unique values of cities that have non-profits in the Northeastern areas in the United States\")"
   ]
  },
  {
   "cell_type": "markdown",
   "metadata": {},
   "source": [
    "## Part 5 - Visualizations\n",
    "\n"
   ]
  },
  {
   "cell_type": "code",
   "execution_count": 45,
   "metadata": {},
   "outputs": [
    {
     "data": {
      "text/plain": [
       "<BarContainer object of 8 artists>"
      ]
     },
     "execution_count": 45,
     "metadata": {},
     "output_type": "execute_result"
    },
    {
     "data": {
      "image/png": "[encoded data removed]",
      "text/plain": [
       "<Figure size 432x288 with 1 Axes>"
      ]
     },
     "metadata": {
      "needs_background": "light"
     },
     "output_type": "display_data"
    }
   ],
   "source": [
    "import matplotlib.pyplot as plt\n",
    "labels = unique_states\n",
    "xcoords = np.arange(len(labels))\n",
    "height = []\n",
    "for i in range(0, len(sorted_freqstate)):\n",
    "    height.append(sorted_freqstate[i][1])\n",
    "heights = height\n",
    "plt.xticks(xcoords, labels)\n",
    "plt.title('States')\n",
    "plt.ylabel('number of non-profits')\n",
    "plt.bar(xcoords, heights, 0.8, align=\"center\")"
   ]
  },
  {
   "cell_type": "markdown",
   "metadata": {},
   "source": [
    "This is a histogram visualization of how many non-profit organizations each of the Northeastern states have respectively, with the abbreviations of the states on the x-axis and the number of non-profits these states have on the y-axis.\n"
   ]
  },
  {
   "cell_type": "code",
   "execution_count": 48,
   "metadata": {},
   "outputs": [
    {
     "data": {
      "text/plain": [
       "<matplotlib.collections.PathCollection at 0x7face2fe45e0>"
      ]
     },
     "execution_count": 48,
     "metadata": {},
     "output_type": "execute_result"
    },
    {
     "data": {
      "image/png": "[encoded data removed]",
      "text/plain": [
       "<Figure size 432x288 with 1 Axes>"
      ]
     },
     "metadata": {
      "needs_background": "light"
     },
     "output_type": "display_data"
    }
   ],
   "source": [
    "x = revenuenp\n",
    "y = incomenp\n",
    "plt.ylabel('income of the non-profits')\n",
    "plt.xlabel('revenue of the non-profits')\n",
    "plt.title('Relationship between income and revenue \\nof non-profits in Northeasten US')\n",
    "plt.scatter(x, y)"
   ]
  },
  {
   "cell_type": "markdown",
   "metadata": {},
   "source": [
    "This is a scatter plot showing the relationship between the income of non-profits in Northeastern states in the United States and the revenue of theirs. It has the revenue of the non-profits on the x-axis and the income of theirs on the y-axis. It visualizes that for the majority of the non-profits, there exists a positive relationship between the income and revenue of a non-profit. Meanwhile, we can see some outliers on the chart with a higher proportion between income and revenue."
   ]
  },
  {
   "cell_type": "markdown",
   "metadata": {},
   "source": [
    "## Part 6 - Conclusion\n",
    "\n",
    "TODO: write your conclusion here (interpret results of calculations; does it help answer your original questions?)"
   ]
  },
  {
   "cell_type": "markdown",
   "metadata": {},
   "source": [
    "* From the calculations, we found that:\n",
    "    * New york state and New york city are the state and city that have the most non-profits in Northeastern US.\n",
    "    * The average income of a non-profit in Northeastern US is 9087179.03 dollars.\n"
   ]
  },
  {
   "cell_type": "markdown",
   "metadata": {},
   "source": [
    "* The calculations were helpful for answering my original questions and brought along several interesting discoveries including but not limited to:\n",
    "    * Massachusetts has more non-profits than New Jersey\n",
    "    * There exists a rather proportional relationship between the income and revenue of non-profits\n",
    "    * There are 257324 non-profit organizations in the mentioned 8 states."
   ]
  }
 ],
 "metadata": {
  "kernelspec": {
   "display_name": "Python 3",
   "language": "python",
   "name": "python3"
  },
  "language_info": {
   "codemirror_mode": {
    "name": "ipython",
    "version": 3
   },
   "file_extension": ".py",
   "mimetype": "text/x-python",
   "name": "python",
   "nbconvert_exporter": "python",
   "pygments_lexer": "ipython3",
   "version": "3.8.5"
  }
 },
 "nbformat": 4,
 "nbformat_minor": 5
}
